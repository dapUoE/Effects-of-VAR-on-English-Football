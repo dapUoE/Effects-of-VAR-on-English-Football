{
 "cells": [
  {
   "cell_type": "markdown",
   "metadata": {},
   "source": [
    "Imports"
   ]
  },
  {
   "cell_type": "code",
   "execution_count": 90,
   "metadata": {},
   "outputs": [],
   "source": [
    "import pandas as pd"
   ]
  },
  {
   "cell_type": "markdown",
   "metadata": {},
   "source": [
    "Access files from this path: \"C:\\Users\\Daniel Price\\Documents\\Documents\\Exeter\\Data_Science_in_Economics\\Empirical_Project\\Data\""
   ]
  },
  {
   "cell_type": "markdown",
   "metadata": {},
   "source": [
    "for each file, from 2000-01 to 2021-22 (inclusive), do the following:\n",
    "Convert the csv file to a pandas dataframe\n",
    "Since each year is the same data, but for a different year, we can concatenate the dataframes together."
   ]
  },
  {
   "cell_type": "code",
   "execution_count": 91,
   "metadata": {},
   "outputs": [
    {
     "name": "stderr",
     "output_type": "stream",
     "text": [
      "C:\\Users\\Daniel Price\\AppData\\Local\\Temp\\ipykernel_58924\\4196728266.py:39: FutureWarning: The argument 'date_parser' is deprecated and will be removed in a future version. Please use 'date_format' instead, or read your data in as 'object' dtype and then call 'to_datetime'.\n",
      "  df = pd.read_csv(file_path, parse_dates=['Date'], date_parser=parse_dates)\n",
      "C:\\Users\\Daniel Price\\AppData\\Local\\Temp\\ipykernel_58924\\4196728266.py:39: FutureWarning: The argument 'date_parser' is deprecated and will be removed in a future version. Please use 'date_format' instead, or read your data in as 'object' dtype and then call 'to_datetime'.\n",
      "  df = pd.read_csv(file_path, parse_dates=['Date'], date_parser=parse_dates)\n",
      "C:\\Users\\Daniel Price\\AppData\\Local\\Temp\\ipykernel_58924\\4196728266.py:39: FutureWarning: The argument 'date_parser' is deprecated and will be removed in a future version. Please use 'date_format' instead, or read your data in as 'object' dtype and then call 'to_datetime'.\n",
      "  df = pd.read_csv(file_path, parse_dates=['Date'], date_parser=parse_dates)\n",
      "C:\\Users\\Daniel Price\\AppData\\Local\\Temp\\ipykernel_58924\\4196728266.py:39: FutureWarning: The argument 'date_parser' is deprecated and will be removed in a future version. Please use 'date_format' instead, or read your data in as 'object' dtype and then call 'to_datetime'.\n",
      "  df = pd.read_csv(file_path, parse_dates=['Date'], date_parser=parse_dates)\n",
      "C:\\Users\\Daniel Price\\AppData\\Local\\Temp\\ipykernel_58924\\4196728266.py:39: FutureWarning: The argument 'date_parser' is deprecated and will be removed in a future version. Please use 'date_format' instead, or read your data in as 'object' dtype and then call 'to_datetime'.\n",
      "  df = pd.read_csv(file_path, parse_dates=['Date'], date_parser=parse_dates)\n",
      "C:\\Users\\Daniel Price\\AppData\\Local\\Temp\\ipykernel_58924\\4196728266.py:39: FutureWarning: The argument 'date_parser' is deprecated and will be removed in a future version. Please use 'date_format' instead, or read your data in as 'object' dtype and then call 'to_datetime'.\n",
      "  df = pd.read_csv(file_path, parse_dates=['Date'], date_parser=parse_dates)\n",
      "C:\\Users\\Daniel Price\\AppData\\Local\\Temp\\ipykernel_58924\\4196728266.py:39: FutureWarning: The argument 'date_parser' is deprecated and will be removed in a future version. Please use 'date_format' instead, or read your data in as 'object' dtype and then call 'to_datetime'.\n",
      "  df = pd.read_csv(file_path, parse_dates=['Date'], date_parser=parse_dates)\n",
      "C:\\Users\\Daniel Price\\AppData\\Local\\Temp\\ipykernel_58924\\4196728266.py:39: FutureWarning: The argument 'date_parser' is deprecated and will be removed in a future version. Please use 'date_format' instead, or read your data in as 'object' dtype and then call 'to_datetime'.\n",
      "  df = pd.read_csv(file_path, parse_dates=['Date'], date_parser=parse_dates)\n",
      "C:\\Users\\Daniel Price\\AppData\\Local\\Temp\\ipykernel_58924\\4196728266.py:39: FutureWarning: The argument 'date_parser' is deprecated and will be removed in a future version. Please use 'date_format' instead, or read your data in as 'object' dtype and then call 'to_datetime'.\n",
      "  df = pd.read_csv(file_path, parse_dates=['Date'], date_parser=parse_dates)\n",
      "C:\\Users\\Daniel Price\\AppData\\Local\\Temp\\ipykernel_58924\\4196728266.py:39: FutureWarning: The argument 'date_parser' is deprecated and will be removed in a future version. Please use 'date_format' instead, or read your data in as 'object' dtype and then call 'to_datetime'.\n",
      "  df = pd.read_csv(file_path, parse_dates=['Date'], date_parser=parse_dates)\n",
      "C:\\Users\\Daniel Price\\AppData\\Local\\Temp\\ipykernel_58924\\4196728266.py:39: FutureWarning: The argument 'date_parser' is deprecated and will be removed in a future version. Please use 'date_format' instead, or read your data in as 'object' dtype and then call 'to_datetime'.\n",
      "  df = pd.read_csv(file_path, parse_dates=['Date'], date_parser=parse_dates)\n",
      "C:\\Users\\Daniel Price\\AppData\\Local\\Temp\\ipykernel_58924\\4196728266.py:39: FutureWarning: The argument 'date_parser' is deprecated and will be removed in a future version. Please use 'date_format' instead, or read your data in as 'object' dtype and then call 'to_datetime'.\n",
      "  df = pd.read_csv(file_path, parse_dates=['Date'], date_parser=parse_dates)\n",
      "C:\\Users\\Daniel Price\\AppData\\Local\\Temp\\ipykernel_58924\\4196728266.py:39: FutureWarning: The argument 'date_parser' is deprecated and will be removed in a future version. Please use 'date_format' instead, or read your data in as 'object' dtype and then call 'to_datetime'.\n",
      "  df = pd.read_csv(file_path, parse_dates=['Date'], date_parser=parse_dates)\n",
      "C:\\Users\\Daniel Price\\AppData\\Local\\Temp\\ipykernel_58924\\4196728266.py:39: FutureWarning: The argument 'date_parser' is deprecated and will be removed in a future version. Please use 'date_format' instead, or read your data in as 'object' dtype and then call 'to_datetime'.\n",
      "  df = pd.read_csv(file_path, parse_dates=['Date'], date_parser=parse_dates)\n",
      "C:\\Users\\Daniel Price\\AppData\\Local\\Temp\\ipykernel_58924\\4196728266.py:39: FutureWarning: The argument 'date_parser' is deprecated and will be removed in a future version. Please use 'date_format' instead, or read your data in as 'object' dtype and then call 'to_datetime'.\n",
      "  df = pd.read_csv(file_path, parse_dates=['Date'], date_parser=parse_dates)\n",
      "C:\\Users\\Daniel Price\\AppData\\Local\\Temp\\ipykernel_58924\\4196728266.py:39: FutureWarning: The argument 'date_parser' is deprecated and will be removed in a future version. Please use 'date_format' instead, or read your data in as 'object' dtype and then call 'to_datetime'.\n",
      "  df = pd.read_csv(file_path, parse_dates=['Date'], date_parser=parse_dates)\n",
      "C:\\Users\\Daniel Price\\AppData\\Local\\Temp\\ipykernel_58924\\4196728266.py:39: FutureWarning: The argument 'date_parser' is deprecated and will be removed in a future version. Please use 'date_format' instead, or read your data in as 'object' dtype and then call 'to_datetime'.\n",
      "  df = pd.read_csv(file_path, parse_dates=['Date'], date_parser=parse_dates)\n",
      "C:\\Users\\Daniel Price\\AppData\\Local\\Temp\\ipykernel_58924\\4196728266.py:39: FutureWarning: The argument 'date_parser' is deprecated and will be removed in a future version. Please use 'date_format' instead, or read your data in as 'object' dtype and then call 'to_datetime'.\n",
      "  df = pd.read_csv(file_path, parse_dates=['Date'], date_parser=parse_dates)\n",
      "C:\\Users\\Daniel Price\\AppData\\Local\\Temp\\ipykernel_58924\\4196728266.py:39: FutureWarning: The argument 'date_parser' is deprecated and will be removed in a future version. Please use 'date_format' instead, or read your data in as 'object' dtype and then call 'to_datetime'.\n",
      "  df = pd.read_csv(file_path, parse_dates=['Date'], date_parser=parse_dates)\n",
      "C:\\Users\\Daniel Price\\AppData\\Local\\Temp\\ipykernel_58924\\4196728266.py:39: FutureWarning: The argument 'date_parser' is deprecated and will be removed in a future version. Please use 'date_format' instead, or read your data in as 'object' dtype and then call 'to_datetime'.\n",
      "  df = pd.read_csv(file_path, parse_dates=['Date'], date_parser=parse_dates)\n"
     ]
    },
    {
     "name": "stdout",
     "output_type": "stream",
     "text": [
      "    Div       Date     HomeTeam        AwayTeam  FTHG  FTAG FTR  HTHG  HTAG  \\\n",
      "0    E0 2000-08-19     Charlton        Man City     4     0   H     2     0   \n",
      "1    E0 2000-08-19      Chelsea        West Ham     4     2   H     1     0   \n",
      "2    E0 2000-08-19     Coventry   Middlesbrough     1     3   A     1     1   \n",
      "3    E0 2000-08-19        Derby     Southampton     2     2   D     1     2   \n",
      "4    E0 2000-08-19        Leeds         Everton     2     0   H     2     0   \n",
      "..   ..        ...          ...             ...   ...   ...  ..   ...   ...   \n",
      "318  E0 2024-04-13  Bournemouth      Man United     2     2   D     2     1   \n",
      "319  E0 2024-04-14    Liverpool  Crystal Palace     0     1   A     0     1   \n",
      "320  E0 2024-04-14     West Ham          Fulham     0     2   A     0     1   \n",
      "321  E0 2024-04-14      Arsenal     Aston Villa     0     2   A     0     0   \n",
      "322  E0 2024-04-15      Chelsea         Everton     6     0   H     4     0   \n",
      "\n",
      "    HTR  ...  AvgC<2.5  AHCh  B365CAHH  B365CAHA  PCAHH  PCAHA  MaxCAHH  \\\n",
      "0     H  ...       NaN   NaN       NaN       NaN    NaN    NaN      NaN   \n",
      "1     H  ...       NaN   NaN       NaN       NaN    NaN    NaN      NaN   \n",
      "2     D  ...       NaN   NaN       NaN       NaN    NaN    NaN      NaN   \n",
      "3     A  ...       NaN   NaN       NaN       NaN    NaN    NaN      NaN   \n",
      "4     H  ...       NaN   NaN       NaN       NaN    NaN    NaN      NaN   \n",
      "..   ..  ...       ...   ...       ...       ...    ...    ...      ...   \n",
      "318   H  ...      3.04 -0.25      2.05      1.75   2.12   1.83     2.16   \n",
      "319   A  ...      3.56 -2.00      1.89      2.04   1.87   2.06     1.93   \n",
      "320   A  ...      2.22 -0.25      2.11      1.82   2.14   1.82     2.14   \n",
      "321   D  ...      2.87 -1.75      1.95      1.98   1.96   1.96     1.98   \n",
      "322   H  ...      2.31 -0.75      1.86      2.07   1.86   2.08     1.88   \n",
      "\n",
      "     MaxCAHA  AvgCAHH  AvgCAHA  \n",
      "0        NaN      NaN      NaN  \n",
      "1        NaN      NaN      NaN  \n",
      "2        NaN      NaN      NaN  \n",
      "3        NaN      NaN      NaN  \n",
      "4        NaN      NaN      NaN  \n",
      "..       ...      ...      ...  \n",
      "318     1.84     2.08     1.79  \n",
      "319     2.06     1.87     2.00  \n",
      "320     1.83     2.10     1.79  \n",
      "321     2.02     1.91     1.95  \n",
      "322     2.09     1.85     2.02  \n",
      "\n",
      "[9063 rows x 146 columns]\n",
      "Number of files converted: 24\n"
     ]
    },
    {
     "name": "stderr",
     "output_type": "stream",
     "text": [
      "C:\\Users\\Daniel Price\\AppData\\Local\\Temp\\ipykernel_58924\\4196728266.py:39: FutureWarning: The argument 'date_parser' is deprecated and will be removed in a future version. Please use 'date_format' instead, or read your data in as 'object' dtype and then call 'to_datetime'.\n",
      "  df = pd.read_csv(file_path, parse_dates=['Date'], date_parser=parse_dates)\n",
      "C:\\Users\\Daniel Price\\AppData\\Local\\Temp\\ipykernel_58924\\4196728266.py:39: FutureWarning: The argument 'date_parser' is deprecated and will be removed in a future version. Please use 'date_format' instead, or read your data in as 'object' dtype and then call 'to_datetime'.\n",
      "  df = pd.read_csv(file_path, parse_dates=['Date'], date_parser=parse_dates)\n",
      "C:\\Users\\Daniel Price\\AppData\\Local\\Temp\\ipykernel_58924\\4196728266.py:39: FutureWarning: The argument 'date_parser' is deprecated and will be removed in a future version. Please use 'date_format' instead, or read your data in as 'object' dtype and then call 'to_datetime'.\n",
      "  df = pd.read_csv(file_path, parse_dates=['Date'], date_parser=parse_dates)\n",
      "C:\\Users\\Daniel Price\\AppData\\Local\\Temp\\ipykernel_58924\\4196728266.py:39: FutureWarning: The argument 'date_parser' is deprecated and will be removed in a future version. Please use 'date_format' instead, or read your data in as 'object' dtype and then call 'to_datetime'.\n",
      "  df = pd.read_csv(file_path, parse_dates=['Date'], date_parser=parse_dates)\n"
     ]
    }
   ],
   "source": [
    "import os\n",
    "import pandas as pd\n",
    "import re\n",
    "\n",
    "# Function to parse dates adaptively\n",
    "def parse_dates(dates):\n",
    "    # Checking the year format based on length and adjusting accordingly\n",
    "    if len(dates[0].split('/')[-1]) == 2:\n",
    "        return pd.to_datetime(dates, format='%d/%m/%y')\n",
    "    elif len(dates[0].split('/')[-1]) == 4:\n",
    "        return pd.to_datetime(dates, format='%d/%m/%Y')\n",
    "    else:\n",
    "        # Fallback to infer the format if unexpected length\n",
    "        return pd.to_datetime(dates, infer_datetime_format=True)\n",
    "\n",
    "# Data directory\n",
    "data = r\"C:\\Users\\Daniel Price\\Documents\\Documents\\Exeter\\Data_Science_in_Economics\\Empirical_Project\\Data\"\n",
    "\n",
    "# Get the list of files in the data directory\n",
    "file_list = os.listdir(data)\n",
    "\n",
    "# Initialize an empty dataframe to store the concatenated data\n",
    "concatenated_df = pd.DataFrame()\n",
    "\n",
    "# Define the pattern for the file names\n",
    "pattern = re.compile(r'^\\d{4}-\\d{2}\\.csv$')\n",
    "\n",
    "# Initialize a counter for the number of files converted\n",
    "file_count = 0\n",
    "\n",
    "# Iterate over each file\n",
    "for file_name in file_list:\n",
    "    # Check if the file matches the pattern for a CSV file\n",
    "    if pattern.match(file_name):\n",
    "        # Construct the file path\n",
    "        file_path = os.path.join(data, file_name)\n",
    "        \n",
    "        # Read the CSV file into a dataframe, explicitly parsing the date\n",
    "        df = pd.read_csv(file_path, parse_dates=['Date'], date_parser=parse_dates)\n",
    "        \n",
    "        # Concatenate the dataframe to the existing data\n",
    "        concatenated_df = pd.concat([concatenated_df, df])\n",
    "\n",
    "        # Increment the counter\n",
    "        file_count += 1\n",
    "\n",
    "# Print the concatenated dataframe\n",
    "print(concatenated_df)\n",
    "\n",
    "# Print the number of files converted\n",
    "print(f\"Number of files converted: {file_count}\")\n"
   ]
  },
  {
   "cell_type": "markdown",
   "metadata": {},
   "source": [
    "VAR was implemented after in the 2019/20 season, so we will mark the data which had VAR with a 1, and the data which did not have VAR with a 0. We will make a new column called 'VAR' which will have this information."
   ]
  },
  {
   "cell_type": "code",
   "execution_count": 92,
   "metadata": {},
   "outputs": [
    {
     "name": "stderr",
     "output_type": "stream",
     "text": [
      "C:\\Users\\Daniel Price\\AppData\\Local\\Temp\\ipykernel_58924\\1459879911.py:19: PerformanceWarning: DataFrame is highly fragmented.  This is usually the result of calling `frame.insert` many times, which has poor performance.  Consider joining all columns at once using pd.concat(axis=1) instead. To get a de-fragmented frame, use `newframe = frame.copy()`\n",
      "  concatenated_df['VAR'] = concatenated_df['Date'].apply(lambda x: 1 if x >= var_start_date else 0)\n"
     ]
    },
    {
     "name": "stdout",
     "output_type": "stream",
     "text": [
      "Number of unparseable dates set as NaT: 0\n",
      "    Div       Date     HomeTeam        AwayTeam  FTHG  FTAG FTR  HTHG  HTAG  \\\n",
      "0    E0 2000-08-19     Charlton        Man City     4     0   H     2     0   \n",
      "1    E0 2000-08-19      Chelsea        West Ham     4     2   H     1     0   \n",
      "2    E0 2000-08-19     Coventry   Middlesbrough     1     3   A     1     1   \n",
      "3    E0 2000-08-19        Derby     Southampton     2     2   D     1     2   \n",
      "4    E0 2000-08-19        Leeds         Everton     2     0   H     2     0   \n",
      "..   ..        ...          ...             ...   ...   ...  ..   ...   ...   \n",
      "318  E0 2024-04-13  Bournemouth      Man United     2     2   D     2     1   \n",
      "319  E0 2024-04-14    Liverpool  Crystal Palace     0     1   A     0     1   \n",
      "320  E0 2024-04-14     West Ham          Fulham     0     2   A     0     1   \n",
      "321  E0 2024-04-14      Arsenal     Aston Villa     0     2   A     0     0   \n",
      "322  E0 2024-04-15      Chelsea         Everton     6     0   H     4     0   \n",
      "\n",
      "    HTR  ...  AHCh B365CAHH  B365CAHA  PCAHH  PCAHA  MaxCAHH  MaxCAHA  \\\n",
      "0     H  ...   NaN      NaN       NaN    NaN    NaN      NaN      NaN   \n",
      "1     H  ...   NaN      NaN       NaN    NaN    NaN      NaN      NaN   \n",
      "2     D  ...   NaN      NaN       NaN    NaN    NaN      NaN      NaN   \n",
      "3     A  ...   NaN      NaN       NaN    NaN    NaN      NaN      NaN   \n",
      "4     H  ...   NaN      NaN       NaN    NaN    NaN      NaN      NaN   \n",
      "..   ..  ...   ...      ...       ...    ...    ...      ...      ...   \n",
      "318   H  ... -0.25     2.05      1.75   2.12   1.83     2.16     1.84   \n",
      "319   A  ... -2.00     1.89      2.04   1.87   2.06     1.93     2.06   \n",
      "320   A  ... -0.25     2.11      1.82   2.14   1.82     2.14     1.83   \n",
      "321   D  ... -1.75     1.95      1.98   1.96   1.96     1.98     2.02   \n",
      "322   H  ... -0.75     1.86      2.07   1.86   2.08     1.88     2.09   \n",
      "\n",
      "     AvgCAHH  AvgCAHA  VAR  \n",
      "0        NaN      NaN    0  \n",
      "1        NaN      NaN    0  \n",
      "2        NaN      NaN    0  \n",
      "3        NaN      NaN    0  \n",
      "4        NaN      NaN    0  \n",
      "..       ...      ...  ...  \n",
      "318     2.08     1.79    1  \n",
      "319     1.87     2.00    1  \n",
      "320     2.10     1.79    1  \n",
      "321     1.91     1.95    1  \n",
      "322     1.85     2.02    1  \n",
      "\n",
      "[9063 rows x 147 columns]\n",
      "Number of matches listed as having VAR: 1843\n"
     ]
    },
    {
     "ename": "OSError",
     "evalue": "Cannot save file into a non-existent directory: 'your\\directory\\path'",
     "output_type": "error",
     "traceback": [
      "\u001b[1;31m---------------------------------------------------------------------------\u001b[0m",
      "\u001b[1;31mOSError\u001b[0m                                   Traceback (most recent call last)",
      "Cell \u001b[1;32mIn[92], line 29\u001b[0m\n\u001b[0;32m     27\u001b[0m \u001b[38;5;66;03m# Write the concatenated dataframe to a CSV file in the same directory as the datasets\u001b[39;00m\n\u001b[0;32m     28\u001b[0m data_path \u001b[38;5;241m=\u001b[39m \u001b[38;5;124m'\u001b[39m\u001b[38;5;124myour/directory/path\u001b[39m\u001b[38;5;124m'\u001b[39m  \u001b[38;5;66;03m# Adjust this to your correct path\u001b[39;00m\n\u001b[1;32m---> 29\u001b[0m \u001b[43mconcatenated_df\u001b[49m\u001b[38;5;241;43m.\u001b[39;49m\u001b[43mto_csv\u001b[49m\u001b[43m(\u001b[49m\u001b[43mos\u001b[49m\u001b[38;5;241;43m.\u001b[39;49m\u001b[43mpath\u001b[49m\u001b[38;5;241;43m.\u001b[39;49m\u001b[43mjoin\u001b[49m\u001b[43m(\u001b[49m\u001b[43mdata_path\u001b[49m\u001b[43m,\u001b[49m\u001b[43m \u001b[49m\u001b[38;5;124;43m'\u001b[39;49m\u001b[38;5;124;43mcombined_data.csv\u001b[39;49m\u001b[38;5;124;43m'\u001b[39;49m\u001b[43m)\u001b[49m\u001b[43m,\u001b[49m\u001b[43m \u001b[49m\u001b[43mindex\u001b[49m\u001b[38;5;241;43m=\u001b[39;49m\u001b[38;5;28;43;01mFalse\u001b[39;49;00m\u001b[43m)\u001b[49m\n",
      "File \u001b[1;32m~\\AppData\\Local\\Packages\\PythonSoftwareFoundation.Python.3.11_qbz5n2kfra8p0\\LocalCache\\local-packages\\Python311\\site-packages\\pandas\\util\\_decorators.py:333\u001b[0m, in \u001b[0;36mdeprecate_nonkeyword_arguments.<locals>.decorate.<locals>.wrapper\u001b[1;34m(*args, **kwargs)\u001b[0m\n\u001b[0;32m    327\u001b[0m \u001b[38;5;28;01mif\u001b[39;00m \u001b[38;5;28mlen\u001b[39m(args) \u001b[38;5;241m>\u001b[39m num_allow_args:\n\u001b[0;32m    328\u001b[0m     warnings\u001b[38;5;241m.\u001b[39mwarn(\n\u001b[0;32m    329\u001b[0m         msg\u001b[38;5;241m.\u001b[39mformat(arguments\u001b[38;5;241m=\u001b[39m_format_argument_list(allow_args)),\n\u001b[0;32m    330\u001b[0m         \u001b[38;5;167;01mFutureWarning\u001b[39;00m,\n\u001b[0;32m    331\u001b[0m         stacklevel\u001b[38;5;241m=\u001b[39mfind_stack_level(),\n\u001b[0;32m    332\u001b[0m     )\n\u001b[1;32m--> 333\u001b[0m \u001b[38;5;28;01mreturn\u001b[39;00m \u001b[43mfunc\u001b[49m\u001b[43m(\u001b[49m\u001b[38;5;241;43m*\u001b[39;49m\u001b[43margs\u001b[49m\u001b[43m,\u001b[49m\u001b[43m \u001b[49m\u001b[38;5;241;43m*\u001b[39;49m\u001b[38;5;241;43m*\u001b[39;49m\u001b[43mkwargs\u001b[49m\u001b[43m)\u001b[49m\n",
      "File \u001b[1;32m~\\AppData\\Local\\Packages\\PythonSoftwareFoundation.Python.3.11_qbz5n2kfra8p0\\LocalCache\\local-packages\\Python311\\site-packages\\pandas\\core\\generic.py:3964\u001b[0m, in \u001b[0;36mNDFrame.to_csv\u001b[1;34m(self, path_or_buf, sep, na_rep, float_format, columns, header, index, index_label, mode, encoding, compression, quoting, quotechar, lineterminator, chunksize, date_format, doublequote, escapechar, decimal, errors, storage_options)\u001b[0m\n\u001b[0;32m   3953\u001b[0m df \u001b[38;5;241m=\u001b[39m \u001b[38;5;28mself\u001b[39m \u001b[38;5;28;01mif\u001b[39;00m \u001b[38;5;28misinstance\u001b[39m(\u001b[38;5;28mself\u001b[39m, ABCDataFrame) \u001b[38;5;28;01melse\u001b[39;00m \u001b[38;5;28mself\u001b[39m\u001b[38;5;241m.\u001b[39mto_frame()\n\u001b[0;32m   3955\u001b[0m formatter \u001b[38;5;241m=\u001b[39m DataFrameFormatter(\n\u001b[0;32m   3956\u001b[0m     frame\u001b[38;5;241m=\u001b[39mdf,\n\u001b[0;32m   3957\u001b[0m     header\u001b[38;5;241m=\u001b[39mheader,\n\u001b[1;32m   (...)\u001b[0m\n\u001b[0;32m   3961\u001b[0m     decimal\u001b[38;5;241m=\u001b[39mdecimal,\n\u001b[0;32m   3962\u001b[0m )\n\u001b[1;32m-> 3964\u001b[0m \u001b[38;5;28;01mreturn\u001b[39;00m \u001b[43mDataFrameRenderer\u001b[49m\u001b[43m(\u001b[49m\u001b[43mformatter\u001b[49m\u001b[43m)\u001b[49m\u001b[38;5;241;43m.\u001b[39;49m\u001b[43mto_csv\u001b[49m\u001b[43m(\u001b[49m\n\u001b[0;32m   3965\u001b[0m \u001b[43m    \u001b[49m\u001b[43mpath_or_buf\u001b[49m\u001b[43m,\u001b[49m\n\u001b[0;32m   3966\u001b[0m \u001b[43m    \u001b[49m\u001b[43mlineterminator\u001b[49m\u001b[38;5;241;43m=\u001b[39;49m\u001b[43mlineterminator\u001b[49m\u001b[43m,\u001b[49m\n\u001b[0;32m   3967\u001b[0m \u001b[43m    \u001b[49m\u001b[43msep\u001b[49m\u001b[38;5;241;43m=\u001b[39;49m\u001b[43msep\u001b[49m\u001b[43m,\u001b[49m\n\u001b[0;32m   3968\u001b[0m \u001b[43m    \u001b[49m\u001b[43mencoding\u001b[49m\u001b[38;5;241;43m=\u001b[39;49m\u001b[43mencoding\u001b[49m\u001b[43m,\u001b[49m\n\u001b[0;32m   3969\u001b[0m \u001b[43m    \u001b[49m\u001b[43merrors\u001b[49m\u001b[38;5;241;43m=\u001b[39;49m\u001b[43merrors\u001b[49m\u001b[43m,\u001b[49m\n\u001b[0;32m   3970\u001b[0m \u001b[43m    \u001b[49m\u001b[43mcompression\u001b[49m\u001b[38;5;241;43m=\u001b[39;49m\u001b[43mcompression\u001b[49m\u001b[43m,\u001b[49m\n\u001b[0;32m   3971\u001b[0m \u001b[43m    \u001b[49m\u001b[43mquoting\u001b[49m\u001b[38;5;241;43m=\u001b[39;49m\u001b[43mquoting\u001b[49m\u001b[43m,\u001b[49m\n\u001b[0;32m   3972\u001b[0m \u001b[43m    \u001b[49m\u001b[43mcolumns\u001b[49m\u001b[38;5;241;43m=\u001b[39;49m\u001b[43mcolumns\u001b[49m\u001b[43m,\u001b[49m\n\u001b[0;32m   3973\u001b[0m \u001b[43m    \u001b[49m\u001b[43mindex_label\u001b[49m\u001b[38;5;241;43m=\u001b[39;49m\u001b[43mindex_label\u001b[49m\u001b[43m,\u001b[49m\n\u001b[0;32m   3974\u001b[0m \u001b[43m    \u001b[49m\u001b[43mmode\u001b[49m\u001b[38;5;241;43m=\u001b[39;49m\u001b[43mmode\u001b[49m\u001b[43m,\u001b[49m\n\u001b[0;32m   3975\u001b[0m \u001b[43m    \u001b[49m\u001b[43mchunksize\u001b[49m\u001b[38;5;241;43m=\u001b[39;49m\u001b[43mchunksize\u001b[49m\u001b[43m,\u001b[49m\n\u001b[0;32m   3976\u001b[0m \u001b[43m    \u001b[49m\u001b[43mquotechar\u001b[49m\u001b[38;5;241;43m=\u001b[39;49m\u001b[43mquotechar\u001b[49m\u001b[43m,\u001b[49m\n\u001b[0;32m   3977\u001b[0m \u001b[43m    \u001b[49m\u001b[43mdate_format\u001b[49m\u001b[38;5;241;43m=\u001b[39;49m\u001b[43mdate_format\u001b[49m\u001b[43m,\u001b[49m\n\u001b[0;32m   3978\u001b[0m \u001b[43m    \u001b[49m\u001b[43mdoublequote\u001b[49m\u001b[38;5;241;43m=\u001b[39;49m\u001b[43mdoublequote\u001b[49m\u001b[43m,\u001b[49m\n\u001b[0;32m   3979\u001b[0m \u001b[43m    \u001b[49m\u001b[43mescapechar\u001b[49m\u001b[38;5;241;43m=\u001b[39;49m\u001b[43mescapechar\u001b[49m\u001b[43m,\u001b[49m\n\u001b[0;32m   3980\u001b[0m \u001b[43m    \u001b[49m\u001b[43mstorage_options\u001b[49m\u001b[38;5;241;43m=\u001b[39;49m\u001b[43mstorage_options\u001b[49m\u001b[43m,\u001b[49m\n\u001b[0;32m   3981\u001b[0m \u001b[43m\u001b[49m\u001b[43m)\u001b[49m\n",
      "File \u001b[1;32m~\\AppData\\Local\\Packages\\PythonSoftwareFoundation.Python.3.11_qbz5n2kfra8p0\\LocalCache\\local-packages\\Python311\\site-packages\\pandas\\io\\formats\\format.py:1014\u001b[0m, in \u001b[0;36mDataFrameRenderer.to_csv\u001b[1;34m(self, path_or_buf, encoding, sep, columns, index_label, mode, compression, quoting, quotechar, lineterminator, chunksize, date_format, doublequote, escapechar, errors, storage_options)\u001b[0m\n\u001b[0;32m    993\u001b[0m     created_buffer \u001b[38;5;241m=\u001b[39m \u001b[38;5;28;01mFalse\u001b[39;00m\n\u001b[0;32m    995\u001b[0m csv_formatter \u001b[38;5;241m=\u001b[39m CSVFormatter(\n\u001b[0;32m    996\u001b[0m     path_or_buf\u001b[38;5;241m=\u001b[39mpath_or_buf,\n\u001b[0;32m    997\u001b[0m     lineterminator\u001b[38;5;241m=\u001b[39mlineterminator,\n\u001b[1;32m   (...)\u001b[0m\n\u001b[0;32m   1012\u001b[0m     formatter\u001b[38;5;241m=\u001b[39m\u001b[38;5;28mself\u001b[39m\u001b[38;5;241m.\u001b[39mfmt,\n\u001b[0;32m   1013\u001b[0m )\n\u001b[1;32m-> 1014\u001b[0m \u001b[43mcsv_formatter\u001b[49m\u001b[38;5;241;43m.\u001b[39;49m\u001b[43msave\u001b[49m\u001b[43m(\u001b[49m\u001b[43m)\u001b[49m\n\u001b[0;32m   1016\u001b[0m \u001b[38;5;28;01mif\u001b[39;00m created_buffer:\n\u001b[0;32m   1017\u001b[0m     \u001b[38;5;28;01massert\u001b[39;00m \u001b[38;5;28misinstance\u001b[39m(path_or_buf, StringIO)\n",
      "File \u001b[1;32m~\\AppData\\Local\\Packages\\PythonSoftwareFoundation.Python.3.11_qbz5n2kfra8p0\\LocalCache\\local-packages\\Python311\\site-packages\\pandas\\io\\formats\\csvs.py:251\u001b[0m, in \u001b[0;36mCSVFormatter.save\u001b[1;34m(self)\u001b[0m\n\u001b[0;32m    247\u001b[0m \u001b[38;5;250m\u001b[39m\u001b[38;5;124;03m\"\"\"\u001b[39;00m\n\u001b[0;32m    248\u001b[0m \u001b[38;5;124;03mCreate the writer & save.\u001b[39;00m\n\u001b[0;32m    249\u001b[0m \u001b[38;5;124;03m\"\"\"\u001b[39;00m\n\u001b[0;32m    250\u001b[0m \u001b[38;5;66;03m# apply compression and byte/text conversion\u001b[39;00m\n\u001b[1;32m--> 251\u001b[0m \u001b[38;5;28;01mwith\u001b[39;00m \u001b[43mget_handle\u001b[49m\u001b[43m(\u001b[49m\n\u001b[0;32m    252\u001b[0m \u001b[43m    \u001b[49m\u001b[38;5;28;43mself\u001b[39;49m\u001b[38;5;241;43m.\u001b[39;49m\u001b[43mfilepath_or_buffer\u001b[49m\u001b[43m,\u001b[49m\n\u001b[0;32m    253\u001b[0m \u001b[43m    \u001b[49m\u001b[38;5;28;43mself\u001b[39;49m\u001b[38;5;241;43m.\u001b[39;49m\u001b[43mmode\u001b[49m\u001b[43m,\u001b[49m\n\u001b[0;32m    254\u001b[0m \u001b[43m    \u001b[49m\u001b[43mencoding\u001b[49m\u001b[38;5;241;43m=\u001b[39;49m\u001b[38;5;28;43mself\u001b[39;49m\u001b[38;5;241;43m.\u001b[39;49m\u001b[43mencoding\u001b[49m\u001b[43m,\u001b[49m\n\u001b[0;32m    255\u001b[0m \u001b[43m    \u001b[49m\u001b[43merrors\u001b[49m\u001b[38;5;241;43m=\u001b[39;49m\u001b[38;5;28;43mself\u001b[39;49m\u001b[38;5;241;43m.\u001b[39;49m\u001b[43merrors\u001b[49m\u001b[43m,\u001b[49m\n\u001b[0;32m    256\u001b[0m \u001b[43m    \u001b[49m\u001b[43mcompression\u001b[49m\u001b[38;5;241;43m=\u001b[39;49m\u001b[38;5;28;43mself\u001b[39;49m\u001b[38;5;241;43m.\u001b[39;49m\u001b[43mcompression\u001b[49m\u001b[43m,\u001b[49m\n\u001b[0;32m    257\u001b[0m \u001b[43m    \u001b[49m\u001b[43mstorage_options\u001b[49m\u001b[38;5;241;43m=\u001b[39;49m\u001b[38;5;28;43mself\u001b[39;49m\u001b[38;5;241;43m.\u001b[39;49m\u001b[43mstorage_options\u001b[49m\u001b[43m,\u001b[49m\n\u001b[0;32m    258\u001b[0m \u001b[43m\u001b[49m\u001b[43m)\u001b[49m \u001b[38;5;28;01mas\u001b[39;00m handles:\n\u001b[0;32m    259\u001b[0m     \u001b[38;5;66;03m# Note: self.encoding is irrelevant here\u001b[39;00m\n\u001b[0;32m    260\u001b[0m     \u001b[38;5;28mself\u001b[39m\u001b[38;5;241m.\u001b[39mwriter \u001b[38;5;241m=\u001b[39m csvlib\u001b[38;5;241m.\u001b[39mwriter(\n\u001b[0;32m    261\u001b[0m         handles\u001b[38;5;241m.\u001b[39mhandle,\n\u001b[0;32m    262\u001b[0m         lineterminator\u001b[38;5;241m=\u001b[39m\u001b[38;5;28mself\u001b[39m\u001b[38;5;241m.\u001b[39mlineterminator,\n\u001b[1;32m   (...)\u001b[0m\n\u001b[0;32m    267\u001b[0m         quotechar\u001b[38;5;241m=\u001b[39m\u001b[38;5;28mself\u001b[39m\u001b[38;5;241m.\u001b[39mquotechar,\n\u001b[0;32m    268\u001b[0m     )\n\u001b[0;32m    270\u001b[0m     \u001b[38;5;28mself\u001b[39m\u001b[38;5;241m.\u001b[39m_save()\n",
      "File \u001b[1;32m~\\AppData\\Local\\Packages\\PythonSoftwareFoundation.Python.3.11_qbz5n2kfra8p0\\LocalCache\\local-packages\\Python311\\site-packages\\pandas\\io\\common.py:749\u001b[0m, in \u001b[0;36mget_handle\u001b[1;34m(path_or_buf, mode, encoding, compression, memory_map, is_text, errors, storage_options)\u001b[0m\n\u001b[0;32m    747\u001b[0m \u001b[38;5;66;03m# Only for write methods\u001b[39;00m\n\u001b[0;32m    748\u001b[0m \u001b[38;5;28;01mif\u001b[39;00m \u001b[38;5;124m\"\u001b[39m\u001b[38;5;124mr\u001b[39m\u001b[38;5;124m\"\u001b[39m \u001b[38;5;129;01mnot\u001b[39;00m \u001b[38;5;129;01min\u001b[39;00m mode \u001b[38;5;129;01mand\u001b[39;00m is_path:\n\u001b[1;32m--> 749\u001b[0m     \u001b[43mcheck_parent_directory\u001b[49m\u001b[43m(\u001b[49m\u001b[38;5;28;43mstr\u001b[39;49m\u001b[43m(\u001b[49m\u001b[43mhandle\u001b[49m\u001b[43m)\u001b[49m\u001b[43m)\u001b[49m\n\u001b[0;32m    751\u001b[0m \u001b[38;5;28;01mif\u001b[39;00m compression:\n\u001b[0;32m    752\u001b[0m     \u001b[38;5;28;01mif\u001b[39;00m compression \u001b[38;5;241m!=\u001b[39m \u001b[38;5;124m\"\u001b[39m\u001b[38;5;124mzstd\u001b[39m\u001b[38;5;124m\"\u001b[39m:\n\u001b[0;32m    753\u001b[0m         \u001b[38;5;66;03m# compression libraries do not like an explicit text-mode\u001b[39;00m\n",
      "File \u001b[1;32m~\\AppData\\Local\\Packages\\PythonSoftwareFoundation.Python.3.11_qbz5n2kfra8p0\\LocalCache\\local-packages\\Python311\\site-packages\\pandas\\io\\common.py:616\u001b[0m, in \u001b[0;36mcheck_parent_directory\u001b[1;34m(path)\u001b[0m\n\u001b[0;32m    614\u001b[0m parent \u001b[38;5;241m=\u001b[39m Path(path)\u001b[38;5;241m.\u001b[39mparent\n\u001b[0;32m    615\u001b[0m \u001b[38;5;28;01mif\u001b[39;00m \u001b[38;5;129;01mnot\u001b[39;00m parent\u001b[38;5;241m.\u001b[39mis_dir():\n\u001b[1;32m--> 616\u001b[0m     \u001b[38;5;28;01mraise\u001b[39;00m \u001b[38;5;167;01mOSError\u001b[39;00m(\u001b[38;5;124mrf\u001b[39m\u001b[38;5;124m\"\u001b[39m\u001b[38;5;124mCannot save file into a non-existent directory: \u001b[39m\u001b[38;5;124m'\u001b[39m\u001b[38;5;132;01m{\u001b[39;00mparent\u001b[38;5;132;01m}\u001b[39;00m\u001b[38;5;124m'\u001b[39m\u001b[38;5;124m\"\u001b[39m)\n",
      "\u001b[1;31mOSError\u001b[0m: Cannot save file into a non-existent directory: 'your\\directory\\path'"
     ]
    }
   ],
   "source": [
    "# Convert 'Date' column to datetime format, handling unparseable dates by setting them as NaT\n",
    "concatenated_df['Date'] = pd.to_datetime(concatenated_df['Date'], format='%d/%m/%Y', errors='coerce')\n",
    "\n",
    "# Identify rows where the date conversion resulted in NaT\n",
    "nat_dates = concatenated_df[concatenated_df['Date'].isna()]\n",
    "\n",
    "# Print the count of NaT entries\n",
    "print(f\"Number of unparseable dates set as NaT: {nat_dates.shape[0]}\")\n",
    "\n",
    "# If there are any NaT values, print them out\n",
    "if not nat_dates.empty:\n",
    "    print(\"List of unparseable dates:\")\n",
    "    print(nat_dates['Date'])  # This will only show NaT, for actual date strings causing issues, you should print another column if available\n",
    "\n",
    "# Define the date for VAR implementation\n",
    "var_start_date = pd.Timestamp('2019-06-01')\n",
    "\n",
    "# Add a 'VAR' column based on the year extracted from the 'date'. VAR implemented from 2019 onwards.\n",
    "concatenated_df['VAR'] = concatenated_df['Date'].apply(lambda x: 1 if x >= var_start_date else 0)\n",
    "\n",
    "# Print the concatenated dataframe with the new 'VAR' column\n",
    "print(concatenated_df)\n",
    "\n",
    "# Print the number of matches listed as having VAR\n",
    "print(f\"Number of matches listed as having VAR: {concatenated_df['VAR'].sum()}\")\n",
    "\n",
    "# Write the concatenated dataframe to a CSV file in the same directory as the datasets\n",
    "data_path = 'your/directory/path'  # Adjust this to your correct path\n",
    "concatenated_df.to_csv(os.path.join(data, 'combined_data.csv'), index=False)"
   ]
  }
 ],
 "metadata": {
  "kernelspec": {
   "display_name": "Python 3",
   "language": "python",
   "name": "python3"
  },
  "language_info": {
   "codemirror_mode": {
    "name": "ipython",
    "version": 3
   },
   "file_extension": ".py",
   "mimetype": "text/x-python",
   "name": "python",
   "nbconvert_exporter": "python",
   "pygments_lexer": "ipython3",
   "version": "3.11.9"
  }
 },
 "nbformat": 4,
 "nbformat_minor": 2
}
