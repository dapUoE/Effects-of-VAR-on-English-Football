{
 "cells": [
  {
   "cell_type": "markdown",
   "metadata": {},
   "source": [
    "Imports"
   ]
  },
  {
   "cell_type": "code",
   "execution_count": 1,
   "metadata": {},
   "outputs": [],
   "source": [
    "import pandas as pd"
   ]
  },
  {
   "cell_type": "markdown",
   "metadata": {},
   "source": [
    "Access files from this path: \"C:\\Users\\Daniel Price\\Documents\\Documents\\Exeter\\Data_Science_in_Economics\\Empirical_Project\\Data\""
   ]
  },
  {
   "cell_type": "markdown",
   "metadata": {},
   "source": [
    "for each file, from 2000-01 to 2021-22 (inclusive), do the following:\n",
    "Convert the csv file to a pandas dataframe\n",
    "Since each year is the same data, but for a different year, we can concatenate the dataframes together."
   ]
  },
  {
   "cell_type": "code",
   "execution_count": 6,
   "metadata": {},
   "outputs": [
    {
     "name": "stdout",
     "output_type": "stream",
     "text": [
      "    Div        Date        HomeTeam       AwayTeam  FTHG  FTAG FTR  HTHG  \\\n",
      "0    E0    19/08/00        Charlton       Man City     4     0   H     2   \n",
      "1    E0    19/08/00         Chelsea       West Ham     4     2   H     1   \n",
      "2    E0    19/08/00        Coventry  Middlesbrough     1     3   A     1   \n",
      "3    E0    19/08/00           Derby    Southampton     2     2   D     1   \n",
      "4    E0    19/08/00           Leeds        Everton     2     0   H     2   \n",
      "..   ..         ...             ...            ...   ...   ...  ..   ...   \n",
      "375  E0  22/05/2022  Crystal Palace     Man United     1     0   H     1   \n",
      "376  E0  22/05/2022       Leicester    Southampton     4     1   H     0   \n",
      "377  E0  22/05/2022       Liverpool         Wolves     3     1   H     1   \n",
      "378  E0  22/05/2022        Man City    Aston Villa     3     2   H     0   \n",
      "379  E0  22/05/2022         Norwich      Tottenham     0     5   A     0   \n",
      "\n",
      "     HTAG HTR  ...  AvgC<2.5  AHCh  B365CAHH  B365CAHA  PCAHH  PCAHA  MaxCAHH  \\\n",
      "0       0   H  ...       NaN   NaN       NaN       NaN    NaN    NaN      NaN   \n",
      "1       0   H  ...       NaN   NaN       NaN       NaN    NaN    NaN      NaN   \n",
      "2       1   D  ...       NaN   NaN       NaN       NaN    NaN    NaN      NaN   \n",
      "3       2   A  ...       NaN   NaN       NaN       NaN    NaN    NaN      NaN   \n",
      "4       0   H  ...       NaN   NaN       NaN       NaN    NaN    NaN      NaN   \n",
      "..    ...  ..  ...       ...   ...       ...       ...    ...    ...      ...   \n",
      "375     0   H  ...      2.04  0.25      1.68      2.15   1.74   2.23     1.88   \n",
      "376     0   D  ...      2.63 -0.75      1.83      2.07   1.88   2.03     1.94   \n",
      "377     1   D  ...      3.28 -2.50      2.02      1.77   2.06   1.83     2.19   \n",
      "378     1   A  ...      3.36 -2.25      2.06      1.84   2.05   1.86     2.09   \n",
      "379     2   A  ...      2.40  1.50      1.95      1.95   1.96   1.94     2.16   \n",
      "\n",
      "     MaxCAHA  AvgCAHH  AvgCAHA  \n",
      "0        NaN      NaN      NaN  \n",
      "1        NaN      NaN      NaN  \n",
      "2        NaN      NaN      NaN  \n",
      "3        NaN      NaN      NaN  \n",
      "4        NaN      NaN      NaN  \n",
      "..       ...      ...      ...  \n",
      "375     2.25     1.74     2.16  \n",
      "376     2.26     1.87     2.01  \n",
      "377     1.99     2.07     1.80  \n",
      "378     2.03     2.01     1.87  \n",
      "379     1.98     1.99     1.89  \n",
      "\n",
      "[8020 rows x 144 columns]\n",
      "Number of files converted: 22\n"
     ]
    }
   ],
   "source": [
    "import os\n",
    "import pandas as pd\n",
    "import re\n",
    "\n",
    "# Get the list of files in the data directory\n",
    "file_list = os.listdir(data)\n",
    "\n",
    "# Initialize an empty dataframe to store the concatenated data\n",
    "concatenated_df = pd.DataFrame()\n",
    "\n",
    "# Define the pattern for the file names\n",
    "pattern = re.compile(r'^\\d{4}-\\d{2}\\.csv$')\n",
    "\n",
    "# Initialize a counter for the number of files converted\n",
    "file_count = 0\n",
    "\n",
    "# Iterate over each file\n",
    "for file_name in file_list:\n",
    "    # Check if the file is a CSV file and matches the pattern\n",
    "    if pattern.match(file_name):\n",
    "        # Construct the file path\n",
    "        file_path = os.path.join(data, file_name)\n",
    "        \n",
    "        # Read the CSV file into a dataframe\n",
    "        df = pd.read_csv(file_path)\n",
    "        \n",
    "        # Concatenate the dataframe to the existing data\n",
    "        concatenated_df = pd.concat([concatenated_df, df])\n",
    "\n",
    "        # Increment the counter\n",
    "        file_count += 1\n",
    "\n",
    "# Print the concatenated dataframe\n",
    "print(concatenated_df)\n",
    "\n",
    "# Write the concatenated dataframe to a CSV file in the same directory as the datasets\n",
    "concatenated_df.to_csv(os.path.join(data, 'combined_data.csv'), index=False)\n",
    "\n",
    "# Print the number of files converted\n",
    "print(f\"Number of files converted: {file_count}\")"
   ]
  }
 ],
 "metadata": {
  "kernelspec": {
   "display_name": "Python 3",
   "language": "python",
   "name": "python3"
  },
  "language_info": {
   "codemirror_mode": {
    "name": "ipython",
    "version": 3
   },
   "file_extension": ".py",
   "mimetype": "text/x-python",
   "name": "python",
   "nbconvert_exporter": "python",
   "pygments_lexer": "ipython3",
   "version": "3.11.9"
  }
 },
 "nbformat": 4,
 "nbformat_minor": 2
}
