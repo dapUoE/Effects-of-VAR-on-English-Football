{
 "cells": [
  {
   "cell_type": "markdown",
   "metadata": {},
   "source": [
    "Imports"
   ]
  },
  {
   "cell_type": "code",
   "execution_count": 37,
   "metadata": {},
   "outputs": [],
   "source": [
    "import pandas as pd"
   ]
  },
  {
   "cell_type": "markdown",
   "metadata": {},
   "source": [
    "Access files from this path: \"C:\\Users\\Daniel Price\\Documents\\Documents\\Exeter\\Data_Science_in_Economics\\Empirical_Project\\Data\""
   ]
  },
  {
   "cell_type": "markdown",
   "metadata": {},
   "source": [
    "for each file, from 2000-01 to 2021-22 (inclusive), do the following:\n",
    "Convert the csv file to a pandas dataframe\n",
    "Since each year is the same data, but for a different year, we can concatenate the dataframes together."
   ]
  },
  {
   "cell_type": "code",
   "execution_count": 38,
   "metadata": {},
   "outputs": [
    {
     "name": "stderr",
     "output_type": "stream",
     "text": [
      "The argument 'date_parser' is deprecated and will be removed in a future version. Please use 'date_format' instead, or read your data in as 'object' dtype and then call 'to_datetime'.\n",
      "The argument 'date_parser' is deprecated and will be removed in a future version. Please use 'date_format' instead, or read your data in as 'object' dtype and then call 'to_datetime'.\n",
      "The argument 'date_parser' is deprecated and will be removed in a future version. Please use 'date_format' instead, or read your data in as 'object' dtype and then call 'to_datetime'.\n",
      "The argument 'date_parser' is deprecated and will be removed in a future version. Please use 'date_format' instead, or read your data in as 'object' dtype and then call 'to_datetime'.\n",
      "The argument 'date_parser' is deprecated and will be removed in a future version. Please use 'date_format' instead, or read your data in as 'object' dtype and then call 'to_datetime'.\n",
      "The argument 'date_parser' is deprecated and will be removed in a future version. Please use 'date_format' instead, or read your data in as 'object' dtype and then call 'to_datetime'.\n",
      "The argument 'date_parser' is deprecated and will be removed in a future version. Please use 'date_format' instead, or read your data in as 'object' dtype and then call 'to_datetime'.\n",
      "The argument 'date_parser' is deprecated and will be removed in a future version. Please use 'date_format' instead, or read your data in as 'object' dtype and then call 'to_datetime'.\n",
      "The argument 'date_parser' is deprecated and will be removed in a future version. Please use 'date_format' instead, or read your data in as 'object' dtype and then call 'to_datetime'.\n",
      "The argument 'date_parser' is deprecated and will be removed in a future version. Please use 'date_format' instead, or read your data in as 'object' dtype and then call 'to_datetime'.\n",
      "The argument 'date_parser' is deprecated and will be removed in a future version. Please use 'date_format' instead, or read your data in as 'object' dtype and then call 'to_datetime'.\n",
      "The argument 'date_parser' is deprecated and will be removed in a future version. Please use 'date_format' instead, or read your data in as 'object' dtype and then call 'to_datetime'.\n",
      "The argument 'date_parser' is deprecated and will be removed in a future version. Please use 'date_format' instead, or read your data in as 'object' dtype and then call 'to_datetime'.\n",
      "The argument 'date_parser' is deprecated and will be removed in a future version. Please use 'date_format' instead, or read your data in as 'object' dtype and then call 'to_datetime'.\n",
      "The argument 'date_parser' is deprecated and will be removed in a future version. Please use 'date_format' instead, or read your data in as 'object' dtype and then call 'to_datetime'.\n",
      "The argument 'date_parser' is deprecated and will be removed in a future version. Please use 'date_format' instead, or read your data in as 'object' dtype and then call 'to_datetime'.\n",
      "The argument 'date_parser' is deprecated and will be removed in a future version. Please use 'date_format' instead, or read your data in as 'object' dtype and then call 'to_datetime'.\n"
     ]
    },
    {
     "name": "stdout",
     "output_type": "stream",
     "text": [
      "    Div       Date     HomeTeam        AwayTeam  FTHG  FTAG FTR  HTHG  HTAG  \\\n",
      "0    E0 2000-08-19     Charlton        Man City     4     0   H     2     0   \n",
      "1    E0 2000-08-19      Chelsea        West Ham     4     2   H     1     0   \n",
      "2    E0 2000-08-19     Coventry   Middlesbrough     1     3   A     1     1   \n",
      "3    E0 2000-08-19        Derby     Southampton     2     2   D     1     2   \n",
      "4    E0 2000-08-19        Leeds         Everton     2     0   H     2     0   \n",
      "..   ..        ...          ...             ...   ...   ...  ..   ...   ...   \n",
      "318  E0 2024-04-13  Bournemouth      Man United     2     2   D     2     1   \n",
      "319  E0 2024-04-14    Liverpool  Crystal Palace     0     1   A     0     1   \n",
      "320  E0 2024-04-14     West Ham          Fulham     0     2   A     0     1   \n",
      "321  E0 2024-04-14      Arsenal     Aston Villa     0     2   A     0     0   \n",
      "322  E0 2024-04-15      Chelsea         Everton     6     0   H     4     0   \n",
      "\n",
      "    HTR  ...  AvgC<2.5  AHCh  B365CAHH  B365CAHA  PCAHH  PCAHA  MaxCAHH  \\\n",
      "0     H  ...       NaN   NaN       NaN       NaN    NaN    NaN      NaN   \n",
      "1     H  ...       NaN   NaN       NaN       NaN    NaN    NaN      NaN   \n",
      "2     D  ...       NaN   NaN       NaN       NaN    NaN    NaN      NaN   \n",
      "3     A  ...       NaN   NaN       NaN       NaN    NaN    NaN      NaN   \n",
      "4     H  ...       NaN   NaN       NaN       NaN    NaN    NaN      NaN   \n",
      "..   ..  ...       ...   ...       ...       ...    ...    ...      ...   \n",
      "318   H  ...      3.04 -0.25      2.05      1.75   2.12   1.83     2.16   \n",
      "319   A  ...      3.56 -2.00      1.89      2.04   1.87   2.06     1.93   \n",
      "320   A  ...      2.22 -0.25      2.11      1.82   2.14   1.82     2.14   \n",
      "321   D  ...      2.87 -1.75      1.95      1.98   1.96   1.96     1.98   \n",
      "322   H  ...      2.31 -0.75      1.86      2.07   1.86   2.08     1.88   \n",
      "\n",
      "     MaxCAHA  AvgCAHH  AvgCAHA  \n",
      "0        NaN      NaN      NaN  \n",
      "1        NaN      NaN      NaN  \n",
      "2        NaN      NaN      NaN  \n",
      "3        NaN      NaN      NaN  \n",
      "4        NaN      NaN      NaN  \n",
      "..       ...      ...      ...  \n",
      "318     1.84     2.08     1.79  \n",
      "319     2.06     1.87     2.00  \n",
      "320     1.83     2.10     1.79  \n",
      "321     2.02     1.91     1.95  \n",
      "322     2.09     1.85     2.02  \n",
      "\n",
      "[9063 rows x 146 columns]\n",
      "Number of files converted: 24\n"
     ]
    },
    {
     "name": "stderr",
     "output_type": "stream",
     "text": [
      "The argument 'date_parser' is deprecated and will be removed in a future version. Please use 'date_format' instead, or read your data in as 'object' dtype and then call 'to_datetime'.\n",
      "The argument 'date_parser' is deprecated and will be removed in a future version. Please use 'date_format' instead, or read your data in as 'object' dtype and then call 'to_datetime'.\n",
      "The argument 'date_parser' is deprecated and will be removed in a future version. Please use 'date_format' instead, or read your data in as 'object' dtype and then call 'to_datetime'.\n",
      "The argument 'date_parser' is deprecated and will be removed in a future version. Please use 'date_format' instead, or read your data in as 'object' dtype and then call 'to_datetime'.\n",
      "The argument 'date_parser' is deprecated and will be removed in a future version. Please use 'date_format' instead, or read your data in as 'object' dtype and then call 'to_datetime'.\n",
      "The argument 'date_parser' is deprecated and will be removed in a future version. Please use 'date_format' instead, or read your data in as 'object' dtype and then call 'to_datetime'.\n",
      "The argument 'date_parser' is deprecated and will be removed in a future version. Please use 'date_format' instead, or read your data in as 'object' dtype and then call 'to_datetime'.\n"
     ]
    }
   ],
   "source": [
    "import os\n",
    "import pandas as pd\n",
    "import re\n",
    "\n",
    "# Function to parse dates adaptively\n",
    "def parse_dates(dates):\n",
    "    # Checking the year format based on length and adjusting accordingly\n",
    "    if len(dates[0].split('/')[-1]) == 2:\n",
    "        return pd.to_datetime(dates, format='%d/%m/%y')\n",
    "    elif len(dates[0].split('/')[-1]) == 4:\n",
    "        return pd.to_datetime(dates, format='%d/%m/%Y')\n",
    "    else:\n",
    "        # Fallback to infer the format if unexpected length\n",
    "        return pd.to_datetime(dates, infer_datetime_format=True)\n",
    "\n",
    "# Data directory\n",
    "data = r\"C:\\Users\\Daniel Price\\Documents\\Documents\\Exeter\\Data_Science_in_Economics\\Empirical_Project\\Data\"\n",
    "\n",
    "# Get the list of files in the data directory\n",
    "file_list = os.listdir(data)\n",
    "\n",
    "# Initialize an empty dataframe to store the concatenated data\n",
    "concatenated_df = pd.DataFrame()\n",
    "\n",
    "# Define the pattern for the file names\n",
    "pattern = re.compile(r'^\\d{4}-\\d{2}\\.csv$')\n",
    "\n",
    "# Initialize a counter for the number of files converted\n",
    "file_count = 0\n",
    "\n",
    "# Iterate over each file\n",
    "for file_name in file_list:\n",
    "    # Check if the file matches the pattern for a CSV file\n",
    "    if pattern.match(file_name):\n",
    "        # Construct the file path\n",
    "        file_path = os.path.join(data, file_name)\n",
    "        \n",
    "        # Read the CSV file into a dataframe, explicitly parsing the date\n",
    "        df = pd.read_csv(file_path, parse_dates=['Date'], date_parser=parse_dates)\n",
    "        \n",
    "        # Concatenate the dataframe to the existing data\n",
    "        concatenated_df = pd.concat([concatenated_df, df])\n",
    "\n",
    "        # Increment the counter\n",
    "        file_count += 1\n",
    "\n",
    "# Print the concatenated dataframe\n",
    "print(concatenated_df)\n",
    "\n",
    "# Print the number of files converted\n",
    "print(f\"Number of files converted: {file_count}\")\n"
   ]
  },
  {
   "cell_type": "markdown",
   "metadata": {},
   "source": [
    "VAR was implemented after in the 2019/20 season, so we will mark the data which had VAR with a 1, and the data which did not have VAR with a 0. We will make a new column called 'VAR' which will have this information."
   ]
  },
  {
   "cell_type": "code",
   "execution_count": 39,
   "metadata": {},
   "outputs": [
    {
     "name": "stdout",
     "output_type": "stream",
     "text": [
      "Number of unparseable dates set as NaT: 0\n",
      "    Div       Date     HomeTeam        AwayTeam  FTHG  FTAG FTR  HTHG  HTAG  \\\n",
      "0    E0 2000-08-19     Charlton        Man City     4     0   H     2     0   \n",
      "1    E0 2000-08-19      Chelsea        West Ham     4     2   H     1     0   \n",
      "2    E0 2000-08-19     Coventry   Middlesbrough     1     3   A     1     1   \n",
      "3    E0 2000-08-19        Derby     Southampton     2     2   D     1     2   \n",
      "4    E0 2000-08-19        Leeds         Everton     2     0   H     2     0   \n",
      "..   ..        ...          ...             ...   ...   ...  ..   ...   ...   \n",
      "318  E0 2024-04-13  Bournemouth      Man United     2     2   D     2     1   \n",
      "319  E0 2024-04-14    Liverpool  Crystal Palace     0     1   A     0     1   \n",
      "320  E0 2024-04-14     West Ham          Fulham     0     2   A     0     1   \n",
      "321  E0 2024-04-14      Arsenal     Aston Villa     0     2   A     0     0   \n",
      "322  E0 2024-04-15      Chelsea         Everton     6     0   H     4     0   \n",
      "\n",
      "    HTR  ...  AHCh B365CAHH  B365CAHA  PCAHH  PCAHA  MaxCAHH  MaxCAHA  \\\n",
      "0     H  ...   NaN      NaN       NaN    NaN    NaN      NaN      NaN   \n",
      "1     H  ...   NaN      NaN       NaN    NaN    NaN      NaN      NaN   \n",
      "2     D  ...   NaN      NaN       NaN    NaN    NaN      NaN      NaN   \n",
      "3     A  ...   NaN      NaN       NaN    NaN    NaN      NaN      NaN   \n",
      "4     H  ...   NaN      NaN       NaN    NaN    NaN      NaN      NaN   \n",
      "..   ..  ...   ...      ...       ...    ...    ...      ...      ...   \n",
      "318   H  ... -0.25     2.05      1.75   2.12   1.83     2.16     1.84   \n",
      "319   A  ... -2.00     1.89      2.04   1.87   2.06     1.93     2.06   \n",
      "320   A  ... -0.25     2.11      1.82   2.14   1.82     2.14     1.83   \n",
      "321   D  ... -1.75     1.95      1.98   1.96   1.96     1.98     2.02   \n",
      "322   H  ... -0.75     1.86      2.07   1.86   2.08     1.88     2.09   \n",
      "\n",
      "     AvgCAHH  AvgCAHA  VAR  \n",
      "0        NaN      NaN    0  \n",
      "1        NaN      NaN    0  \n",
      "2        NaN      NaN    0  \n",
      "3        NaN      NaN    0  \n",
      "4        NaN      NaN    0  \n",
      "..       ...      ...  ...  \n",
      "318     2.08     1.79    1  \n",
      "319     1.87     2.00    1  \n",
      "320     2.10     1.79    1  \n",
      "321     1.91     1.95    1  \n",
      "322     1.85     2.02    1  \n",
      "\n",
      "[9063 rows x 147 columns]\n",
      "Number of matches listed as having VAR: 1843\n"
     ]
    },
    {
     "name": "stderr",
     "output_type": "stream",
     "text": [
      "DataFrame is highly fragmented.  This is usually the result of calling `frame.insert` many times, which has poor performance.  Consider joining all columns at once using pd.concat(axis=1) instead. To get a de-fragmented frame, use `newframe = frame.copy()`\n"
     ]
    }
   ],
   "source": [
    "# Convert 'Date' column to datetime format, handling unparseable dates by setting them as NaT\n",
    "concatenated_df['Date'] = pd.to_datetime(concatenated_df['Date'], format='%d/%m/%Y', errors='coerce')\n",
    "\n",
    "# Identify rows where the date conversion resulted in NaT\n",
    "nat_dates = concatenated_df[concatenated_df['Date'].isna()]\n",
    "\n",
    "# Print the count of NaT entries\n",
    "print(f\"Number of unparseable dates set as NaT: {nat_dates.shape[0]}\")\n",
    "\n",
    "# If there are any NaT values, print them out\n",
    "if not nat_dates.empty:\n",
    "    print(\"List of unparseable dates:\")\n",
    "    print(nat_dates['Date'])  # This will only show NaT, for actual date strings causing issues, you should print another column if available\n",
    "\n",
    "# Define the date for VAR implementation\n",
    "var_start_date = pd.Timestamp('2019-06-01')\n",
    "\n",
    "# Add a 'VAR' column based on the year extracted from the 'date'. VAR implemented from 2019 onwards.\n",
    "concatenated_df['VAR'] = concatenated_df['Date'].apply(lambda x: 1 if x >= var_start_date else 0)\n",
    "\n",
    "# Print the concatenated dataframe with the new 'VAR' column\n",
    "print(concatenated_df)\n",
    "\n",
    "# Print the number of matches listed as having VAR\n",
    "print(f\"Number of matches listed as having VAR: {concatenated_df['VAR'].sum()}\")\n",
    "\n",
    "# Write the concatenated dataframe to a CSV file in the same directory as the datasets\n",
    "data_path = 'your/directory/path'  # Adjust this to your correct path\n",
    "concatenated_df.to_csv(os.path.join(data, 'combined_data.csv'), index=False)"
   ]
  },
  {
   "cell_type": "markdown",
   "metadata": {},
   "source": [
    "Check for columns with missing data"
   ]
  },
  {
   "cell_type": "code",
   "execution_count": 40,
   "metadata": {},
   "outputs": [
    {
     "name": "stdout",
     "output_type": "stream",
     "text": [
      "Columns without NaN values: ['Div', 'Date', 'HomeTeam', 'AwayTeam', 'FTHG', 'FTAG', 'FTR', 'HTHG', 'HTAG', 'HTR', 'Referee', 'HS', 'AS', 'HST', 'AST', 'HC', 'AC', 'HF', 'AF', 'HY', 'AY', 'HR', 'AR', 'VAR']\n"
     ]
    }
   ],
   "source": [
    "# Check for columns without NaN values\n",
    "no_nan_columns = concatenated_df.columns[concatenated_df.notna().all()].tolist()\n",
    "\n",
    "print(\"Columns without NaN values:\", no_nan_columns)"
   ]
  },
  {
   "cell_type": "markdown",
   "metadata": {},
   "source": [
    "Causal Forest\n",
    "We will use the causal forest model to show the effects of VAR on the number of goals scored in a match."
   ]
  },
  {
   "cell_type": "code",
   "execution_count": 41,
   "metadata": {},
   "outputs": [],
   "source": [
    "# import numpy as np\n",
    "# import pandas as pd\n",
    "# from sklearn.model_selection import train_test_split\n",
    "# from sklearn.preprocessing import OneHotEncoder\n",
    "# from sklearn.compose import ColumnTransformer\n",
    "# from sklearn.pipeline import Pipeline\n",
    "# from sklearn.ensemble import GradientBoostingRegressor, GradientBoostingClassifier\n",
    "# from econml.dml import CausalForestDML\n",
    "\n",
    "# # Assuming 'concatenated_df' is your DataFrame and is already loaded\n",
    "# # Preprocess Date column\n",
    "# concatenated_df['Date'] = pd.to_datetime(concatenated_df['Date'])\n",
    "# concatenated_df['Year'] = concatenated_df['Date'].dt.year\n",
    "# concatenated_df['Month'] = concatenated_df['Date'].dt.month\n",
    "# concatenated_df['Day'] = concatenated_df['Date'].dt.day\n",
    "\n",
    "# # Selecting and preparing data\n",
    "# features = ['Year', 'Month', 'Day', 'HTHG', 'HTAG',\n",
    "#             'HS', 'AS', 'HST', 'AST', 'HF', 'AF', 'HC', 'AC', 'HY', \n",
    "#             'AY', 'HR', 'AR']\n",
    "# X = concatenated_df[features]\n",
    "# Y = concatenated_df['FTHG'] + concatenated_df['FTAG']\n",
    "# T = concatenated_df['VAR']\n",
    "\n",
    "\n",
    "\n",
    "# # Define and configure the causal forest model\n",
    "# causal_forest = CausalForestDML(\n",
    "#     model_y=GradientBoostingRegressor(),  # Model for the outcome\n",
    "#     model_t=GradientBoostingClassifier(),  # Model for the treatment\n",
    "#     discrete_treatment=True,\n",
    "#     random_state=123\n",
    "# )\n",
    "\n",
    "# # Fit the causal forest model\n",
    "# causal_forest.fit(Y=Y, T=T, X=X)\n",
    "\n",
    "# # How much the total number of goals is expected to change due to VAR for each match\n",
    "# effects = causal_forest.effect(X)\n",
    "# print(\"Predicted effect of VAR on the total number of goals scored in the match: \", effects[:10])\n",
    "\n",
    "# # Estimate of VAR's effect on goals scored in a match\n",
    "# ate = np.mean(effects)\n",
    "# print(\"Estimated effect of VAR on the total number of goals scored in the match: \", ate)\n"
   ]
  },
  {
   "cell_type": "markdown",
   "metadata": {},
   "source": []
  },
  {
   "cell_type": "code",
   "execution_count": 42,
   "metadata": {},
   "outputs": [],
   "source": [
    "# # Convert effects to a DataFrame\n",
    "# effects_df = pd.DataFrame(effects, columns=['VAR_Effect'])\n",
    "\n",
    "# # Concatenate this DataFrame with the original match data DataFrame\n",
    "# # Ensure that the indices align correctly\n",
    "# concatenated_df['VAR_Effect'] = effects_df['VAR_Effect']\n",
    "\n",
    "# # Now, you can see the VAR effect alongside all other match data\n",
    "# print(concatenated_df[['Date', 'HomeTeam', 'AwayTeam', 'VAR_Effect']].head(10))\n"
   ]
  },
  {
   "cell_type": "code",
   "execution_count": 43,
   "metadata": {},
   "outputs": [],
   "source": [
    "# #sorting to find matches with the highest VAR effects\n",
    "# sorted_df = concatenated_df.sort_values(by='VAR_Effect', ascending=False)\n",
    "# print(sorted_df[['Date', 'HomeTeam', 'AwayTeam', 'VAR_Effect']].head(10))"
   ]
  },
  {
   "cell_type": "markdown",
   "metadata": {},
   "source": [
    "Second Causal Forest"
   ]
  },
  {
   "cell_type": "code",
   "execution_count": 44,
   "metadata": {},
   "outputs": [
    {
     "name": "stdout",
     "output_type": "stream",
     "text": [
      "(7250,)\n",
      "58     3\n",
      "74     2\n",
      "252    4\n",
      "329    0\n",
      "333    5\n",
      "Name: TotalGoals, dtype: int64\n"
     ]
    },
    {
     "name": "stderr",
     "output_type": "stream",
     "text": [
      "DataFrame is highly fragmented.  This is usually the result of calling `frame.insert` many times, which has poor performance.  Consider joining all columns at once using pd.concat(axis=1) instead. To get a de-fragmented frame, use `newframe = frame.copy()`\n",
      "DataFrame is highly fragmented.  This is usually the result of calling `frame.insert` many times, which has poor performance.  Consider joining all columns at once using pd.concat(axis=1) instead. To get a de-fragmented frame, use `newframe = frame.copy()`\n",
      "DataFrame is highly fragmented.  This is usually the result of calling `frame.insert` many times, which has poor performance.  Consider joining all columns at once using pd.concat(axis=1) instead. To get a de-fragmented frame, use `newframe = frame.copy()`\n",
      "DataFrame is highly fragmented.  This is usually the result of calling `frame.insert` many times, which has poor performance.  Consider joining all columns at once using pd.concat(axis=1) instead. To get a de-fragmented frame, use `newframe = frame.copy()`\n"
     ]
    },
    {
     "data": {
      "image/png": "[encoded data removed]",
      "text/latex": [
       "$\\displaystyle 0.185136875843502$"
      ],
      "text/plain": [
       "0.18513687584350208"
      ]
     },
     "execution_count": 44,
     "metadata": {},
     "output_type": "execute_result"
    }
   ],
   "source": [
    "import pandas as pd\n",
    "from dowhy import CausalModel\n",
    "from IPython.display import Image, display\n",
    "from sklearn.model_selection import train_test_split\n",
    "from econml.dml import CausalForestDML\n",
    "from sklearn.linear_model import MultiTaskLassoCV\n",
    "from sklearn.linear_model import LassoCV\n",
    "\n",
    "# Assuming 'concatenated_df' is the DataFrame and is already loaded\n",
    "# # Preprocess Date column\n",
    "concatenated_df['Date'] = pd.to_datetime(concatenated_df['Date'])\n",
    "concatenated_df['Year'] = concatenated_df['Date'].dt.year\n",
    "concatenated_df['Month'] = concatenated_df['Date'].dt.month\n",
    "concatenated_df['Day'] = concatenated_df['Date'].dt.day\n",
    "# Add a new column for the total goals\n",
    "concatenated_df['TotalGoals'] = concatenated_df['FTAG'] + concatenated_df['FTHG']\n",
    "\n",
    "\n",
    "treatment = 'VAR'\n",
    "outcome = 'TotalGoals'\n",
    "covariates = [\"Year\", 'Month', 'Day', 'HTHG', 'HTAG', 'HS', 'AS', 'HST', \n",
    "              'AST', 'HF', 'AF', 'HC', 'AC', 'HY', 'AY', 'HR', 'AR']\n",
    "\n",
    "\n",
    "# Drop missing data \n",
    "# Combine 'treatment' with 'outcome' and 'covariates' into one list\n",
    "all_variables = [treatment] + [outcome] + covariates\n",
    "concatenated_df = concatenated_df.dropna(axis=0, subset=all_variables)\n",
    "\n",
    "# Split data into train and test sets \n",
    "train, test = train_test_split(concatenated_df, test_size=0.2)\n",
    "\n",
    "# set variables for causal forest Y=outcome, T=treatment, X=covariates, W=effect_modifiers \n",
    "Y = train[outcome]\n",
    "T = train[treatment]\n",
    "X = train[covariates]\n",
    "W = None\n",
    "X_test = test[covariates]\n",
    "\n",
    "# Update the model parameters for causal forest\n",
    "causal_forest = CausalForestDML(\n",
    "    criterion='het',\n",
    "    n_estimators=10000,\n",
    "    min_samples_leaf=10,\n",
    "    max_depth=None,\n",
    "    max_samples=0.5,\n",
    "    discrete_treatment=False,\n",
    "    honest=True,\n",
    "    inference=True,\n",
    "    cv=10,\n",
    "    model_t=LassoCV(),\n",
    "    model_y=LassoCV()   \n",
    ")\n",
    "\n",
    "print(Y.shape)  # Check if Y is indeed multi-dimensional (i.e., (n_samples, n_targets))#\n",
    "Y = train[outcome]\n",
    "print(Y.head())  # Quick check to see the first few rows of Y\n",
    "\n",
    "\n",
    "                      \n",
    "# fit train data to causal forest model \n",
    "causal_forest.fit(Y, T, X=X, W=W)\n",
    "# estimate the CATE with the test set \n",
    "causal_forest.const_marginal_ate(X_test)\n"
   ]
  },
  {
   "cell_type": "code",
   "execution_count": 48,
   "metadata": {},
   "outputs": [
    {
     "name": "stderr",
     "output_type": "stream",
     "text": [
      " 95%|=================== | 6891/7250 [00:16<00:00]       "
     ]
    },
    {
     "name": "stdout",
     "output_type": "stream",
     "text": [
      "dict_keys(['TotalGoals'])\n",
      "<class 'dict'>\n",
      "dict_keys(['VAR'])\n"
     ]
    },
    {
     "data": {
      "image/png": "[encoded data removed]",
      "text/plain": [
       "<Figure size 800x830 with 2 Axes>"
      ]
     },
     "metadata": {},
     "output_type": "display_data"
    }
   ],
   "source": [
    "# code adapted from https://github.com/microsoft/EconML\n",
    "import shap\n",
    "from econml.dml import CausalForestDML\n",
    "import matplotlib.pyplot as plt\n",
    "\n",
    "\n",
    "# fit causal forest with default parameters \n",
    "causal_forest = CausalForestDML()\n",
    "causal_forest.fit(Y, T, X=X, W=W)\n",
    "\n",
    "# calculate shap values of causal forest model \n",
    "shap_values = causal_forest.shap_values(X)\n",
    "\n",
    "# Print the keys in the SHAP values dictionary\n",
    "print(shap_values.keys())\n",
    "\n",
    "# Print the type and keys if it's a dictionary\n",
    "print(type(shap_values['TotalGoals']))\n",
    "if isinstance(shap_values['TotalGoals'], dict):\n",
    "    print(shap_values['TotalGoals'].keys())\n",
    "\n",
    "\n",
    "# plot shap values \n",
    "shap.summary_plot(shap_values['TotalGoals']['VAR'])"
   ]
  }
 ],
 "metadata": {
  "kernelspec": {
   "display_name": "Python 3",
   "language": "python",
   "name": "python3"
  },
  "language_info": {
   "codemirror_mode": {
    "name": "ipython",
    "version": 3
   },
   "file_extension": ".py",
   "mimetype": "text/x-python",
   "name": "python",
   "nbconvert_exporter": "python",
   "pygments_lexer": "ipython3",
   "version": "3.12.3"
  }
 },
 "nbformat": 4,
 "nbformat_minor": 2
}
